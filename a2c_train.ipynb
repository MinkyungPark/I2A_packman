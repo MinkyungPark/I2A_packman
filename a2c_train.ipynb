{
 "cells": [
  {
   "cell_type": "code",
   "execution_count": null,
   "metadata": {},
   "outputs": [],
   "source": [
    "import numpy as np\n",
    "import torch\n",
    "import torch.nn as nn\n",
    "import torch.optim as optim\n",
    "\n",
    "from torch.utils.tensorboard import SummaryWriter\n",
    "writer = SummaryWriter('./tensorboard/A2C')\n",
    "\n",
    "from a2c import ActorCritic, RolloutStorage"
   ]
  },
  {
   "cell_type": "code",
   "execution_count": null,
   "metadata": {},
   "outputs": [],
   "source": [
    "from minipackman import multi_env\n",
    "\n",
    "num_envs = 8\n",
    "mode = 'regular'\n",
    "envs = multi_env(num_envs=num_envs, mode=mode)\n",
    "state_shape = envs.observation_space.shape\n",
    "state_shape"
   ]
  },
  {
   "cell_type": "code",
   "execution_count": null,
   "metadata": {},
   "outputs": [],
   "source": [
    "# a2c\n",
    "gamma = 0.99\n",
    "entropy_coef = 0.01\n",
    "value_loss_coef = 0.5\n",
    "max_grad_norm = 0.5\n",
    "num_steps = 5 # batch size\n",
    "num_frames = int(10e5) # whole steps(frames)\n",
    "\n",
    "# rmsprop\n",
    "lr = 7e-4\n",
    "eps = 1e-5\n",
    "alpha = 0.99\n",
    "\n",
    "ac = ActorCritic(envs.observation_space.shape, envs.action_space.n)\n",
    "optimizer = optim.RMSprop(ac.parameters(), lr, eps=eps, alpha=alpha)\n",
    "\n",
    "rollout = RolloutStorage(num_steps, num_envs, envs.observation_space.shape)\n",
    "if torch.cuda.is_available(): \n",
    "    ac.cuda()\n",
    "    rollout.cuda()"
   ]
  },
  {
   "cell_type": "code",
   "execution_count": null,
   "metadata": {},
   "outputs": [],
   "source": [
    "state = torch.FloatTensor(np.float32(envs.reset())) # [8, 3, 15, 19]\n",
    "rollout.states[0].copy_(state)\n",
    "episode_rewards = torch.zeros(num_envs, 1)\n",
    "final_rewards = torch.zeros(num_envs, 1)"
   ]
  },
  {
   "cell_type": "code",
   "execution_count": null,
   "metadata": {},
   "outputs": [],
   "source": [
    "for i_update in range(num_frames):\n",
    "    ##### do rollout {num_steps} times\n",
    "    for i_step in range(num_steps):\n",
    "        action = ac.act(state)\n",
    "        next_state, reward, done, _ = envs.step(action.squeeze(1).cpu().data.numpy())\n",
    "        reward = torch.FloatTensor(reward).unsqueeze(1)\n",
    "\n",
    "        episode_rewards += reward\n",
    "        masks = torch.FloatTensor(1-np.array(done)).unsqueeze(1)\n",
    "        if torch.cuda.is_available(): masks.cuda()\n",
    "        \n",
    "        final_rewards *= masks\n",
    "        final_rewards += (1-masks) * episode_rewards\n",
    "        episode_rewards *= masks\n",
    "\n",
    "        state = torch.FloatTensor(np.float32(next_state))\n",
    "        rollout.insert(i_step, state, action.data, reward, masks)\n",
    "    #####\n",
    "\n",
    "    with torch.no_grad(): _, next_value = ac(rollout.states[-1])\n",
    "    next_value = next_value.data\n",
    "    returns = rollout.get_batch_returns(next_value, gamma)\n",
    "\n",
    "    x = rollout.states[:-1].view(-1, *state_shape)\n",
    "    in_action = rollout.actions.view(-1, 1)\n",
    "    logit, action_log_probs, values, entropy = ac.evaluate_actions(x, in_action)\n",
    "    values = values.view(num_steps, num_envs, 1)\n",
    "    action_log_probs = action_log_probs.view(num_steps, num_envs, 1)\n",
    "\n",
    "    advantages = returns - values\n",
    "\n",
    "    value_loss = advantages.pow(2).mean()\n",
    "    action_loss = -(advantages.data * action_log_probs).mean()\n",
    "\n",
    "    # policy, value update\n",
    "    optimizer.zero_grad()\n",
    "    loss = value_loss * value_loss_coef + action_loss - entropy * entropy_coef\n",
    "    loss.backward()\n",
    "    nn.utils.clip_grad_norm_(ac.parameters(), max_grad_norm)\n",
    "    optimizer.step()\n",
    "\n",
    "    rollout.after_update()\n",
    "\n",
    "    # log\n",
    "    r_for_log = 0 if torch.sum(final_rewards) == 0 else final_rewards.mean().item()\n",
    "    writer.add_scalar('training reward', r_for_log, i_update)\n",
    "    writer.add_scalar('training loss', loss.item(), i_update)\n",
    "    if i_update + 1 % 1000 == 0 and i_update != 0:\n",
    "        print(f'{i_update} th Update :::: Rewards : {final_rewards.mean().item()} :::: Loss : {loss.item()}')\n",
    "        torch.save(ac.state_dict(), \"./model/a2c_\" + mode + \"_\" + str(i_update))\n",
    "\n",
    "writer.close()\n",
    "envs.close()"
   ]
  }
 ],
 "metadata": {
  "interpreter": {
   "hash": "949777d72b0d2535278d3dc13498b2535136f6dfe0678499012e853ee9abcab1"
  },
  "kernelspec": {
   "display_name": "Python 3.9.7 ('base')",
   "language": "python",
   "name": "python3"
  },
  "language_info": {
   "codemirror_mode": {
    "name": "ipython",
    "version": 3
   },
   "file_extension": ".py",
   "mimetype": "text/x-python",
   "name": "python",
   "nbconvert_exporter": "python",
   "pygments_lexer": "ipython3",
   "version": "3.9.7"
  },
  "orig_nbformat": 4
 },
 "nbformat": 4,
 "nbformat_minor": 2
}
